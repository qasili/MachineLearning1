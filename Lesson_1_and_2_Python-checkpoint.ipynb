{
 "cells": [
  {
   "cell_type": "markdown",
   "id": "deb4cc54",
   "metadata": {},
   "source": [
    "Python is an interpreted, interactive, object-oriented, and high-level, general-purpose programming language. Professionally Python is great for backend development, and automation, but works excellent for data analysis, machine learning, artificial intelligence, and scientific computing.\n",
    "\n",
    "Displaying a <b>Hello World</b> or a sample text as output any programmer does after setting up their environment for the first time."
   ]
  },
  {
   "cell_type": "code",
   "execution_count": 1,
   "id": "02648e45",
   "metadata": {},
   "outputs": [
    {
     "name": "stdout",
     "output_type": "stream",
     "text": [
      "Hello World, my name is Kwesi and I am 32 years old!\n"
     ]
    }
   ],
   "source": [
    "print(\"Hello World, my name is Kwesi and I am 32 years old!\")"
   ]
  },
  {
   "cell_type": "markdown",
   "id": "48bd0d1b",
   "metadata": {},
   "source": [
    "print('Hello World')"
   ]
  },
  {
   "cell_type": "markdown",
   "id": "02ce60b9",
   "metadata": {},
   "source": [
    "## More printing options"
   ]
  },
  {
   "cell_type": "code",
   "execution_count": 2,
   "id": "1a4197bd",
   "metadata": {},
   "outputs": [],
   "source": [
    "name = \"Moses\"\n",
    "age = 400"
   ]
  },
  {
   "cell_type": "code",
   "execution_count": 3,
   "id": "7da8209c",
   "metadata": {},
   "outputs": [],
   "source": [
    "age2 = \"400\""
   ]
  },
  {
   "cell_type": "code",
   "execution_count": 4,
   "id": "b0c9de01",
   "metadata": {},
   "outputs": [
    {
     "data": {
      "text/plain": [
       "402"
      ]
     },
     "execution_count": 4,
     "metadata": {},
     "output_type": "execute_result"
    }
   ],
   "source": [
    "age + 2"
   ]
  },
  {
   "cell_type": "code",
   "execution_count": 5,
   "id": "d4b27caa",
   "metadata": {},
   "outputs": [
    {
     "data": {
      "text/plain": [
       "'4002'"
      ]
     },
     "execution_count": 5,
     "metadata": {},
     "output_type": "execute_result"
    }
   ],
   "source": [
    "age2 + str(2)"
   ]
  },
  {
   "cell_type": "code",
   "execution_count": 6,
   "id": "e830fe61",
   "metadata": {},
   "outputs": [
    {
     "data": {
      "text/plain": [
       "'400400400400400'"
      ]
     },
     "execution_count": 6,
     "metadata": {},
     "output_type": "execute_result"
    }
   ],
   "source": [
    "age2 * 5"
   ]
  },
  {
   "cell_type": "code",
   "execution_count": 7,
   "id": "7cc5caf6",
   "metadata": {},
   "outputs": [
    {
     "name": "stdout",
     "output_type": "stream",
     "text": [
      "Looking in indexes: https://pypi.org/simple, https://pypi.ngc.nvidia.com\n",
      "Requirement already satisfied: pandoc in c:\\users\\quoph\\appdata\\roaming\\jupyterlab-desktop\\jlab_server\\lib\\site-packages (2.3)\n",
      "Requirement already satisfied: plumbum in c:\\users\\quoph\\appdata\\roaming\\jupyterlab-desktop\\jlab_server\\lib\\site-packages (from pandoc) (1.8.2)\n",
      "Requirement already satisfied: ply in c:\\users\\quoph\\appdata\\roaming\\jupyterlab-desktop\\jlab_server\\lib\\site-packages (from pandoc) (3.11)\n",
      "Requirement already satisfied: pywin32 in c:\\users\\quoph\\appdata\\roaming\\jupyterlab-desktop\\jlab_server\\lib\\site-packages (from plumbum->pandoc) (304)\n",
      "Note: you may need to restart the kernel to use updated packages.\n"
     ]
    }
   ],
   "source": [
    "pip install pandoc"
   ]
  },
  {
   "cell_type": "code",
   "execution_count": null,
   "id": "7d6a21f9",
   "metadata": {},
   "outputs": [],
   "source": []
  },
  {
   "cell_type": "code",
   "execution_count": null,
   "id": "1bec6845",
   "metadata": {},
   "outputs": [],
   "source": []
  },
  {
   "cell_type": "code",
   "execution_count": 8,
   "id": "08e09241",
   "metadata": {},
   "outputs": [
    {
     "name": "stdout",
     "output_type": "stream",
     "text": [
      "Hello World, my name is Moses and I am 400 years old!\n"
     ]
    }
   ],
   "source": [
    "print('Hello World, my name is',name,\"and I am\",age,\"years old!\")"
   ]
  },
  {
   "cell_type": "code",
   "execution_count": 9,
   "id": "75fa9dd9",
   "metadata": {},
   "outputs": [
    {
     "name": "stdout",
     "output_type": "stream",
     "text": [
      "Hello World, my name is Moses and I am 400 years old!\n"
     ]
    }
   ],
   "source": [
    "print('Hello World, my name is {} and I am {} years old!'.format(name,age))"
   ]
  },
  {
   "cell_type": "code",
   "execution_count": 10,
   "id": "091ea1c8",
   "metadata": {},
   "outputs": [
    {
     "name": "stdout",
     "output_type": "stream",
     "text": [
      "Hello World, my name is Moses and I am 400 years old!\n"
     ]
    }
   ],
   "source": [
    "print(f\"Hello World, my name is {name} and I am {age} years old!\")"
   ]
  },
  {
   "cell_type": "markdown",
   "id": "82e3d84c",
   "metadata": {},
   "source": [
    "## Variables and data types\n",
    "When we declare a variable in other programming languages like Java, C, C++, we declare the data type of the variable such as int, string, float, and so on. But in Python, it internally identifies the type of the variable based on data assigned to it."
   ]
  },
  {
   "cell_type": "code",
   "execution_count": 11,
   "id": "a053ebb0",
   "metadata": {},
   "outputs": [
    {
     "data": {
      "text/plain": [
       "str"
      ]
     },
     "execution_count": 11,
     "metadata": {},
     "output_type": "execute_result"
    }
   ],
   "source": [
    "type(name)"
   ]
  },
  {
   "cell_type": "code",
   "execution_count": 12,
   "id": "783b4ec9",
   "metadata": {},
   "outputs": [
    {
     "data": {
      "text/plain": [
       "int"
      ]
     },
     "execution_count": 12,
     "metadata": {},
     "output_type": "execute_result"
    }
   ],
   "source": [
    "type(age)"
   ]
  },
  {
   "cell_type": "code",
   "execution_count": 13,
   "id": "f177a805",
   "metadata": {},
   "outputs": [],
   "source": [
    "weight = 65.0"
   ]
  },
  {
   "cell_type": "code",
   "execution_count": 14,
   "id": "7a789ff0",
   "metadata": {},
   "outputs": [],
   "source": [
    "male = True"
   ]
  },
  {
   "cell_type": "code",
   "execution_count": 15,
   "id": "765d4f61",
   "metadata": {},
   "outputs": [
    {
     "data": {
      "text/plain": [
       "float"
      ]
     },
     "execution_count": 15,
     "metadata": {},
     "output_type": "execute_result"
    }
   ],
   "source": [
    "type(weight)"
   ]
  },
  {
   "cell_type": "code",
   "execution_count": 16,
   "id": "05465b53",
   "metadata": {},
   "outputs": [
    {
     "data": {
      "text/plain": [
       "bool"
      ]
     },
     "execution_count": 16,
     "metadata": {},
     "output_type": "execute_result"
    }
   ],
   "source": [
    "type(male)"
   ]
  },
  {
   "cell_type": "markdown",
   "id": "5423265e",
   "metadata": {},
   "source": [
    "Generally, in programming, the data type is an important concept. Variables store data of different types. Python has the following data types inbuilt by default, and in Python, every variable is considered as an object.\n",
    "\n",
    "## Strings\n",
    "Strings are immutable data types in Python, and they get replaced every time after a string operation is done. One can use single or double quotes to represent strings."
   ]
  },
  {
   "cell_type": "code",
   "execution_count": 17,
   "id": "bd15fb86",
   "metadata": {},
   "outputs": [],
   "source": [
    "data = 'hello world, welcome to python programming'"
   ]
  },
  {
   "cell_type": "code",
   "execution_count": 18,
   "id": "5ebffb76",
   "metadata": {},
   "outputs": [
    {
     "data": {
      "text/plain": [
       "'Hello world, welcome to python programming'"
      ]
     },
     "execution_count": 18,
     "metadata": {},
     "output_type": "execute_result"
    }
   ],
   "source": [
    "data.capitalize()"
   ]
  },
  {
   "cell_type": "code",
   "execution_count": 19,
   "id": "e76bb0ab",
   "metadata": {},
   "outputs": [
    {
     "data": {
      "text/plain": [
       "'HELLO WORLD, WELCOME TO PYTHON PROGRAMMING'"
      ]
     },
     "execution_count": 19,
     "metadata": {},
     "output_type": "execute_result"
    }
   ],
   "source": [
    "data.upper()"
   ]
  },
  {
   "cell_type": "code",
   "execution_count": 20,
   "id": "bd2e57d9",
   "metadata": {},
   "outputs": [
    {
     "data": {
      "text/plain": [
       "'hello world, welcome to python programming'"
      ]
     },
     "execution_count": 20,
     "metadata": {},
     "output_type": "execute_result"
    }
   ],
   "source": [
    "data.lower()"
   ]
  },
  {
   "cell_type": "code",
   "execution_count": 21,
   "id": "968e80f3",
   "metadata": {},
   "outputs": [
    {
     "data": {
      "text/plain": [
       "42"
      ]
     },
     "execution_count": 21,
     "metadata": {},
     "output_type": "execute_result"
    }
   ],
   "source": [
    "len(data)"
   ]
  },
  {
   "cell_type": "markdown",
   "id": "ab541cd5",
   "metadata": {},
   "source": [
    "## Integer and float"
   ]
  },
  {
   "cell_type": "code",
   "execution_count": 22,
   "id": "3db814ac",
   "metadata": {},
   "outputs": [],
   "source": [
    "num1 = 30\n",
    "num2 = 13"
   ]
  },
  {
   "cell_type": "code",
   "execution_count": 23,
   "id": "08cfe3fa",
   "metadata": {},
   "outputs": [],
   "source": [
    "# summing two numeric variables\n",
    "num_sum = num1 + num2"
   ]
  },
  {
   "cell_type": "code",
   "execution_count": 24,
   "id": "99c0618a",
   "metadata": {},
   "outputs": [
    {
     "name": "stdout",
     "output_type": "stream",
     "text": [
      "43\n"
     ]
    }
   ],
   "source": [
    "print(num_sum)"
   ]
  },
  {
   "cell_type": "code",
   "execution_count": 25,
   "id": "a6de751f",
   "metadata": {},
   "outputs": [
    {
     "name": "stdout",
     "output_type": "stream",
     "text": [
      "17\n"
     ]
    }
   ],
   "source": [
    "# subtracting two numeric variables\n",
    "diff = num1 - num2\n",
    "print(diff)"
   ]
  },
  {
   "cell_type": "code",
   "execution_count": 26,
   "id": "00645d2c",
   "metadata": {},
   "outputs": [
    {
     "name": "stdout",
     "output_type": "stream",
     "text": [
      "390\n"
     ]
    }
   ],
   "source": [
    "# multiplying two numeric variables\n",
    "prod = num1 * num2\n",
    "print(prod)"
   ]
  },
  {
   "cell_type": "code",
   "execution_count": 27,
   "id": "3cae6011",
   "metadata": {},
   "outputs": [
    {
     "name": "stdout",
     "output_type": "stream",
     "text": [
      "2.3076923076923075\n"
     ]
    }
   ],
   "source": [
    "# dividing two numeric variables\n",
    "div = num1 / num2\n",
    "print(div)"
   ]
  },
  {
   "cell_type": "code",
   "execution_count": 28,
   "id": "815f5d0e",
   "metadata": {},
   "outputs": [
    {
     "name": "stdout",
     "output_type": "stream",
     "text": [
      "2\n"
     ]
    }
   ],
   "source": [
    "# doing integer division with two numeric variables\n",
    "int_div = num1 // num2\n",
    "print(int_div)"
   ]
  },
  {
   "cell_type": "code",
   "execution_count": 29,
   "id": "ffc55c5d",
   "metadata": {},
   "outputs": [
    {
     "name": "stdout",
     "output_type": "stream",
     "text": [
      "4\n"
     ]
    }
   ],
   "source": [
    "# return the remainder of the two numeric variable divison\n",
    "remainder = num1 % num2\n",
    "print(remainder)"
   ]
  },
  {
   "cell_type": "code",
   "execution_count": 30,
   "id": "d5b26c6b",
   "metadata": {},
   "outputs": [
    {
     "data": {
      "text/plain": [
       "9"
      ]
     },
     "execution_count": 30,
     "metadata": {},
     "output_type": "execute_result"
    }
   ],
   "source": [
    "# calculate the exponent of a value\n",
    "3 ** 2"
   ]
  },
  {
   "cell_type": "code",
   "execution_count": 31,
   "id": "39f6cfd3",
   "metadata": {},
   "outputs": [
    {
     "data": {
      "text/plain": [
       "900"
      ]
     },
     "execution_count": 31,
     "metadata": {},
     "output_type": "execute_result"
    }
   ],
   "source": [
    "num1 ** 2"
   ]
  },
  {
   "cell_type": "code",
   "execution_count": 32,
   "id": "d9d0d4e5",
   "metadata": {},
   "outputs": [
    {
     "data": {
      "text/plain": [
       "2197"
      ]
     },
     "execution_count": 32,
     "metadata": {},
     "output_type": "execute_result"
    }
   ],
   "source": [
    "num2 ** 3"
   ]
  },
  {
   "cell_type": "code",
   "execution_count": 33,
   "id": "98eb7723",
   "metadata": {},
   "outputs": [],
   "source": [
    "# import math library\n",
    "import math"
   ]
  },
  {
   "cell_type": "code",
   "execution_count": 34,
   "id": "650b84f2",
   "metadata": {},
   "outputs": [
    {
     "data": {
      "text/plain": [
       "20.0"
      ]
     },
     "execution_count": 34,
     "metadata": {},
     "output_type": "execute_result"
    }
   ],
   "source": [
    "# finding the square root of a value\n",
    "math.sqrt(age)"
   ]
  },
  {
   "cell_type": "code",
   "execution_count": null,
   "id": "34250fa7",
   "metadata": {},
   "outputs": [],
   "source": []
  },
  {
   "cell_type": "markdown",
   "id": "3674194b",
   "metadata": {},
   "source": [
    "## List\n",
    "A List is a container that can hold homogeneous, heterogeneous data types such as string, int, float, and so on. Elements in the list are comma-separated and are enclosed in square brackets. We can perform operations such as finding its length, slicing, updating, deleting the contents of the list."
   ]
  },
  {
   "cell_type": "code",
   "execution_count": 35,
   "id": "cc8b5471",
   "metadata": {},
   "outputs": [],
   "source": [
    "# Heterogenous list elements\n",
    "ghAfcon = ['Football event', 'African cup', 1963, 1965, 1978, 1982, 7.4, 7.8, 11.16, 12.21]"
   ]
  },
  {
   "cell_type": "code",
   "execution_count": 36,
   "id": "b1e2f4e2",
   "metadata": {},
   "outputs": [],
   "source": [
    "# homogenous list elements\n",
    "election_years = [1992, 1996, 2000, 2004, 2008, 2012, 2016, 2020]"
   ]
  },
  {
   "cell_type": "code",
   "execution_count": 37,
   "id": "5043607d",
   "metadata": {},
   "outputs": [
    {
     "data": {
      "text/plain": [
       "10"
      ]
     },
     "execution_count": 37,
     "metadata": {},
     "output_type": "execute_result"
    }
   ],
   "source": [
    "len(ghAfcon)"
   ]
  },
  {
   "cell_type": "code",
   "execution_count": 38,
   "id": "65609c8b",
   "metadata": {},
   "outputs": [
    {
     "data": {
      "text/plain": [
       "8"
      ]
     },
     "execution_count": 38,
     "metadata": {},
     "output_type": "execute_result"
    }
   ],
   "source": [
    "len(election_years)"
   ]
  },
  {
   "cell_type": "markdown",
   "id": "a520d2a0",
   "metadata": {},
   "source": [
    "## List slicing"
   ]
  },
  {
   "cell_type": "code",
   "execution_count": 39,
   "id": "ac7a42e5",
   "metadata": {},
   "outputs": [
    {
     "data": {
      "text/plain": [
       "12.21"
      ]
     },
     "execution_count": 39,
     "metadata": {},
     "output_type": "execute_result"
    }
   ],
   "source": [
    "# slicing the last item in the ghAfcon list\n",
    "ghAfcon[len(ghAfcon) - 1]"
   ]
  },
  {
   "cell_type": "code",
   "execution_count": 40,
   "id": "2a3f55b6",
   "metadata": {},
   "outputs": [
    {
     "data": {
      "text/plain": [
       "12.21"
      ]
     },
     "execution_count": 40,
     "metadata": {},
     "output_type": "execute_result"
    }
   ],
   "source": [
    "ghAfcon[-1]"
   ]
  },
  {
   "cell_type": "code",
   "execution_count": 41,
   "id": "3fd67883",
   "metadata": {},
   "outputs": [
    {
     "data": {
      "text/plain": [
       "1982"
      ]
     },
     "execution_count": 41,
     "metadata": {},
     "output_type": "execute_result"
    }
   ],
   "source": [
    "ghAfcon[5]"
   ]
  },
  {
   "cell_type": "code",
   "execution_count": 42,
   "id": "96d35cdc",
   "metadata": {},
   "outputs": [
    {
     "data": {
      "text/plain": [
       "1982"
      ]
     },
     "execution_count": 42,
     "metadata": {},
     "output_type": "execute_result"
    }
   ],
   "source": [
    "# using negative indexing to extract a particular list element\n",
    "ghAfcon[-5]"
   ]
  },
  {
   "cell_type": "code",
   "execution_count": 43,
   "id": "2d2c9bb7",
   "metadata": {},
   "outputs": [
    {
     "data": {
      "text/plain": [
       "['Football event', 'African cup']"
      ]
     },
     "execution_count": 43,
     "metadata": {},
     "output_type": "execute_result"
    }
   ],
   "source": [
    "# extracting a range of values\n",
    "ghAfcon[0:2]"
   ]
  },
  {
   "cell_type": "code",
   "execution_count": 44,
   "id": "9b99f853",
   "metadata": {},
   "outputs": [
    {
     "data": {
      "text/plain": [
       "[1963, 1965, 1978, 1982]"
      ]
     },
     "execution_count": 44,
     "metadata": {},
     "output_type": "execute_result"
    }
   ],
   "source": [
    "# extracting a range of values from the middle of the list\n",
    "ghAfcon[2:6]"
   ]
  },
  {
   "cell_type": "code",
   "execution_count": 45,
   "id": "b10f047f",
   "metadata": {},
   "outputs": [
    {
     "data": {
      "text/plain": [
       "[7.4, 7.8, 11.16, 12.21]"
      ]
     },
     "execution_count": 45,
     "metadata": {},
     "output_type": "execute_result"
    }
   ],
   "source": [
    "# extracting a range of values towards the end of the list\n",
    "ghAfcon[6:]"
   ]
  },
  {
   "cell_type": "code",
   "execution_count": 46,
   "id": "5f97d40d",
   "metadata": {},
   "outputs": [
    {
     "data": {
      "text/plain": [
       "['Football event', 'African cup']"
      ]
     },
     "execution_count": 46,
     "metadata": {},
     "output_type": "execute_result"
    }
   ],
   "source": [
    "ghAfcon[:2]"
   ]
  },
  {
   "cell_type": "code",
   "execution_count": 47,
   "id": "cd81910b",
   "metadata": {},
   "outputs": [
    {
     "name": "stdout",
     "output_type": "stream",
     "text": [
      "['Football event', 'African cup', 1963, 1965, 1978, 1982, 7.4, 7.8, 11.16, 12.21]\n"
     ]
    }
   ],
   "source": [
    "# print out original list order\n",
    "print(ghAfcon)"
   ]
  },
  {
   "cell_type": "code",
   "execution_count": 48,
   "id": "e850b641",
   "metadata": {},
   "outputs": [
    {
     "name": "stdout",
     "output_type": "stream",
     "text": [
      "[12.21, 11.16, 7.8, 7.4, 1982, 1978, 1965, 1963, 'African cup', 'Football event']\n"
     ]
    }
   ],
   "source": [
    "# print out list in reverse order using negative indexing\n",
    "print(ghAfcon[::-1])"
   ]
  },
  {
   "cell_type": "code",
   "execution_count": 49,
   "id": "7c93c21b",
   "metadata": {},
   "outputs": [],
   "source": [
    "# update list elements by append function\n",
    "ghAfcon.append(\"World cup\")"
   ]
  },
  {
   "cell_type": "code",
   "execution_count": 50,
   "id": "eafdeccb",
   "metadata": {},
   "outputs": [
    {
     "name": "stdout",
     "output_type": "stream",
     "text": [
      "['Football event', 'African cup', 1963, 1965, 1978, 1982, 7.4, 7.8, 11.16, 12.21, 'World cup']\n"
     ]
    }
   ],
   "source": [
    "print(ghAfcon)"
   ]
  },
  {
   "cell_type": "code",
   "execution_count": 51,
   "id": "7519640a",
   "metadata": {},
   "outputs": [
    {
     "data": {
      "text/plain": [
       "11"
      ]
     },
     "execution_count": 51,
     "metadata": {},
     "output_type": "execute_result"
    }
   ],
   "source": [
    "len(ghAfcon)"
   ]
  },
  {
   "cell_type": "code",
   "execution_count": 52,
   "id": "adb28d7b",
   "metadata": {},
   "outputs": [],
   "source": [
    "ghAfcon.remove('World cup')"
   ]
  },
  {
   "cell_type": "code",
   "execution_count": 53,
   "id": "0b1ce73a",
   "metadata": {},
   "outputs": [
    {
     "name": "stdout",
     "output_type": "stream",
     "text": [
      "['Football event', 'African cup', 1963, 1965, 1978, 1982, 7.4, 7.8, 11.16, 12.21]\n"
     ]
    }
   ],
   "source": [
    "print(ghAfcon)"
   ]
  },
  {
   "cell_type": "code",
   "execution_count": 54,
   "id": "8bcdbe32",
   "metadata": {},
   "outputs": [],
   "source": [
    "ghAfcon[2] = \"World cup\""
   ]
  },
  {
   "cell_type": "code",
   "execution_count": 55,
   "id": "f33e79e3",
   "metadata": {},
   "outputs": [
    {
     "name": "stdout",
     "output_type": "stream",
     "text": [
      "['Football event', 'African cup', 'World cup', 1965, 1978, 1982, 7.4, 7.8, 11.16, 12.21]\n"
     ]
    }
   ],
   "source": [
    "print(ghAfcon)"
   ]
  },
  {
   "cell_type": "code",
   "execution_count": 56,
   "id": "1a8d4452",
   "metadata": {},
   "outputs": [],
   "source": [
    "ghAfcon.insert(3, 1963)"
   ]
  },
  {
   "cell_type": "code",
   "execution_count": 57,
   "id": "cfaaa402",
   "metadata": {},
   "outputs": [
    {
     "name": "stdout",
     "output_type": "stream",
     "text": [
      "['Football event', 'African cup', 'World cup', 1963, 1965, 1978, 1982, 7.4, 7.8, 11.16, 12.21]\n"
     ]
    }
   ],
   "source": [
    "print(ghAfcon)"
   ]
  },
  {
   "cell_type": "markdown",
   "id": "bb4f5a6e",
   "metadata": {},
   "source": [
    "## Tuples\n",
    "Tuples are similar to a list, but they are enclosed in parenthesis (). Tuples are immutable, meaning we can create a tuple, but we cannot add, update, or delete elements from it."
   ]
  },
  {
   "cell_type": "code",
   "execution_count": 58,
   "id": "a545b99a",
   "metadata": {},
   "outputs": [],
   "source": [
    "# creating a tuple of Ghana's election year\n",
    "election_years_tuple = (1992, 1996, 2000, 2004, 2008, 2012, 2016, 2020)"
   ]
  },
  {
   "cell_type": "code",
   "execution_count": 59,
   "id": "c074f5b8",
   "metadata": {},
   "outputs": [
    {
     "data": {
      "text/plain": [
       "8"
      ]
     },
     "execution_count": 59,
     "metadata": {},
     "output_type": "execute_result"
    }
   ],
   "source": [
    "len(election_years_tuple)"
   ]
  },
  {
   "cell_type": "code",
   "execution_count": 60,
   "id": "d63ff295",
   "metadata": {},
   "outputs": [
    {
     "data": {
      "text/plain": [
       "(2000, 2004, 2008, 2012, 2016, 2020)"
      ]
     },
     "execution_count": 60,
     "metadata": {},
     "output_type": "execute_result"
    }
   ],
   "source": [
    "# slicing (extracting) from tuple\n",
    "election_years_tuple[2:]"
   ]
  },
  {
   "cell_type": "markdown",
   "id": "7cbdeeff",
   "metadata": {},
   "source": [
    "## Dictionary\n",
    "Dictionary is more like a container of key-value pairs stored using hash mapping. Dictionaries are editable and indexed elements enclosed in curly braces."
   ]
  },
  {
   "cell_type": "code",
   "execution_count": 61,
   "id": "a624daaf",
   "metadata": {},
   "outputs": [],
   "source": [
    "# declaring dictionary object\n",
    "ghPresidents = {\n",
    "    \"JJR\": \"1992 - 2000\",\n",
    "    \"JAK\": \"2000 - 2008\",\n",
    "    \"JEAM\": \"2008 - 2012\",\n",
    "    \"JM\": \"2012 - 2016\",\n",
    "    \"NADAA\": \"2016 - 2024\"\n",
    "}"
   ]
  },
  {
   "cell_type": "code",
   "execution_count": 62,
   "id": "4282bd3a",
   "metadata": {},
   "outputs": [
    {
     "data": {
      "text/plain": [
       "5"
      ]
     },
     "execution_count": 62,
     "metadata": {},
     "output_type": "execute_result"
    }
   ],
   "source": [
    "# show the length/size of the dictionary\n",
    "len(ghPresidents)"
   ]
  },
  {
   "cell_type": "code",
   "execution_count": 63,
   "id": "8e6e7eff",
   "metadata": {},
   "outputs": [
    {
     "name": "stdout",
     "output_type": "stream",
     "text": [
      "dict_keys(['JJR', 'JAK', 'JEAM', 'JM', 'NADAA'])\n"
     ]
    }
   ],
   "source": [
    "# extracting the key elements of a dictionary\n",
    "print(ghPresidents.keys())"
   ]
  },
  {
   "cell_type": "code",
   "execution_count": 64,
   "id": "2bc7ac36",
   "metadata": {},
   "outputs": [
    {
     "name": "stdout",
     "output_type": "stream",
     "text": [
      "dict_values(['1992 - 2000', '2000 - 2008', '2008 - 2012', '2012 - 2016', '2016 - 2024'])\n"
     ]
    }
   ],
   "source": [
    "# extracting the value elements of a dictionary\n",
    "print(ghPresidents.values())"
   ]
  },
  {
   "cell_type": "code",
   "execution_count": 65,
   "id": "cc764de3",
   "metadata": {},
   "outputs": [
    {
     "data": {
      "text/plain": [
       "'2000 - 2008'"
      ]
     },
     "execution_count": 65,
     "metadata": {},
     "output_type": "execute_result"
    }
   ],
   "source": [
    "# extracting a particular from the dictionary based on the key\n",
    "ghPresidents['JAK']"
   ]
  },
  {
   "cell_type": "code",
   "execution_count": null,
   "id": "82677c1a",
   "metadata": {},
   "outputs": [],
   "source": []
  },
  {
   "cell_type": "code",
   "execution_count": 66,
   "id": "71fcec68",
   "metadata": {},
   "outputs": [],
   "source": [
    "# updating dictionary elements\n",
    "ghPresidents['AD'] = '2024 - 2028'"
   ]
  },
  {
   "cell_type": "code",
   "execution_count": 67,
   "id": "ceaaba2c",
   "metadata": {},
   "outputs": [
    {
     "data": {
      "text/plain": [
       "{'JJR': '1992 - 2000',\n",
       " 'JAK': '2000 - 2008',\n",
       " 'JEAM': '2008 - 2012',\n",
       " 'JM': '2012 - 2016',\n",
       " 'NADAA': '2016 - 2024',\n",
       " 'AD': '2024 - 2028'}"
      ]
     },
     "execution_count": 67,
     "metadata": {},
     "output_type": "execute_result"
    }
   ],
   "source": [
    "ghPresidents"
   ]
  },
  {
   "cell_type": "markdown",
   "id": "cf25cf42",
   "metadata": {},
   "source": [
    "## Pandas\n",
    "Data analysis is involves organizing, cleaning, restructuring, merging, and visualizing the data. Generally, data may or may not be in the desired format, and this data needs to be processed like changing the data types, fill the blank or null values, joining the datasets to make the data much more meaningful, deleting redundant or unnecessary content and much more. How can we do this in a quick, efficient, and programmatic manner? The answer is PANDAS.\n",
    "\n",
    "Pandas provide a rich set of functions and attribute to process the data. Pandas is an open-source core python library for data science. It provides high performance, easy-to-use data structures. Pandas is built on top of numpy, which helps to speed up the computation process. The integration of pandas, along with scipy and numpy, does help in statistical analysis and computation, whereas matplotlib and seaborn do help with the visualization of the data.\n",
    "\n",
    "## Data structures in Pandas\n",
    "Pandas provide an extensive set of data structures for working with and manipulating data and performing various statistical, time-series, and financial analysis. The two primary data structures in pandas are Series and DataFrames.\n",
    "\n",
    "## Series\n",
    "A Series is a one-dimensional numpy array object. Considering a dataset with rows and columns, the series is one column of label information. A pandas series can be created from a Python list, tuple, or dictionary, as shown in the following section. Remember though that Python list can carry heterogeneous types of data such as string, integer, float, and so on. But care should be taken to ensure the datatypes of the list (to be transformed into a pandas series) are either integer, string, or float, but not the mix.\n",
    "\n",
    "## Creating a series object from strings\n",
    "We can create a series object of type strings using a python list. In pandas, data types are referred to as dtype. Here the dtype is represented as an object, which means strings in Python."
   ]
  },
  {
   "cell_type": "code",
   "execution_count": 1,
   "id": "a1daa5d4",
   "metadata": {},
   "outputs": [],
   "source": [
    "# import the pandas library\n",
    "import pandas as pd"
   ]
  },
  {
   "cell_type": "code",
   "execution_count": 2,
   "id": "28ff1e6e",
   "metadata": {},
   "outputs": [],
   "source": [
    "# create python string list\n",
    "subjects = ['biology', 'chemistry', 'physics', 'mathematics']"
   ]
  },
  {
   "cell_type": "code",
   "execution_count": 3,
   "id": "bdab7fe0",
   "metadata": {},
   "outputs": [
    {
     "data": {
      "text/plain": [
       "['biology', 'chemistry', 'physics', 'mathematics']"
      ]
     },
     "execution_count": 3,
     "metadata": {},
     "output_type": "execute_result"
    }
   ],
   "source": [
    "subjects"
   ]
  },
  {
   "cell_type": "code",
   "execution_count": 4,
   "id": "9976fbb5",
   "metadata": {},
   "outputs": [
    {
     "data": {
      "text/plain": [
       "list"
      ]
     },
     "execution_count": 4,
     "metadata": {},
     "output_type": "execute_result"
    }
   ],
   "source": [
    "type(subjects)"
   ]
  },
  {
   "cell_type": "code",
   "execution_count": 5,
   "id": "6ae5a9cd",
   "metadata": {},
   "outputs": [],
   "source": [
    "pd_subjects = pd.Series(subjects)"
   ]
  },
  {
   "cell_type": "code",
   "execution_count": 6,
   "id": "7b11906a",
   "metadata": {},
   "outputs": [
    {
     "data": {
      "text/plain": [
       "0        biology\n",
       "1      chemistry\n",
       "2        physics\n",
       "3    mathematics\n",
       "dtype: object"
      ]
     },
     "execution_count": 6,
     "metadata": {},
     "output_type": "execute_result"
    }
   ],
   "source": [
    "pd_subjects"
   ]
  },
  {
   "cell_type": "code",
   "execution_count": 7,
   "id": "b00f36b5",
   "metadata": {},
   "outputs": [
    {
     "data": {
      "text/plain": [
       "pandas.core.series.Series"
      ]
     },
     "execution_count": 7,
     "metadata": {},
     "output_type": "execute_result"
    }
   ],
   "source": [
    "type(pd_subjects)"
   ]
  },
  {
   "cell_type": "markdown",
   "id": "f272c331",
   "metadata": {},
   "source": [
    "## Creating a series object from integer"
   ]
  },
  {
   "cell_type": "code",
   "execution_count": 8,
   "id": "aef80878",
   "metadata": {},
   "outputs": [],
   "source": [
    "# python integer list\n",
    "numbers = [10, 20, 30, 40, 50, 60]"
   ]
  },
  {
   "cell_type": "code",
   "execution_count": 9,
   "id": "2e72f870",
   "metadata": {},
   "outputs": [],
   "source": [
    "# create pandas series of integer\n",
    "pd_numbers = pd.Series(numbers)"
   ]
  },
  {
   "cell_type": "code",
   "execution_count": 10,
   "id": "fb8aca76",
   "metadata": {},
   "outputs": [
    {
     "data": {
      "text/plain": [
       "0    10\n",
       "1    20\n",
       "2    30\n",
       "3    40\n",
       "4    50\n",
       "5    60\n",
       "dtype: int64"
      ]
     },
     "execution_count": 10,
     "metadata": {},
     "output_type": "execute_result"
    }
   ],
   "source": [
    "pd_numbers"
   ]
  },
  {
   "cell_type": "code",
   "execution_count": 11,
   "id": "3ec4ea13",
   "metadata": {},
   "outputs": [
    {
     "data": {
      "text/plain": [
       "pandas.core.series.Series"
      ]
     },
     "execution_count": 11,
     "metadata": {},
     "output_type": "execute_result"
    }
   ],
   "source": [
    "type(pd_numbers)"
   ]
  },
  {
   "cell_type": "markdown",
   "id": "3cc60757",
   "metadata": {},
   "source": [
    "## Creating series from dictionary"
   ]
  },
  {
   "cell_type": "code",
   "execution_count": 12,
   "id": "da6a19fe",
   "metadata": {},
   "outputs": [],
   "source": [
    "# python dictionary object\n",
    "py_dict = {'Name': 'Kwame', 'Age': 32, 'City': 'Tamale'}"
   ]
  },
  {
   "cell_type": "code",
   "execution_count": 13,
   "id": "46d776e7",
   "metadata": {},
   "outputs": [],
   "source": [
    "# converting python dictionary to pandas series\n",
    "pd_dict = pd.Series(py_dict)"
   ]
  },
  {
   "cell_type": "code",
   "execution_count": 14,
   "id": "3b86cbcd",
   "metadata": {},
   "outputs": [
    {
     "data": {
      "text/plain": [
       "Name     Kwame\n",
       "Age         32\n",
       "City    Tamale\n",
       "dtype: object"
      ]
     },
     "execution_count": 14,
     "metadata": {},
     "output_type": "execute_result"
    }
   ],
   "source": [
    "pd_dict"
   ]
  },
  {
   "cell_type": "markdown",
   "id": "285276b7",
   "metadata": {},
   "source": [
    "## Series attributes\n",
    "Attributes deliver information about the objects. They do not manipulate the objects but rather provide a view on the object. We can view a series shape, values, and index.\n",
    "\n",
    "month = ['January', 'February', 'March', 'April', 'May', 'June', 'July', 'August', 'September', 'October', 'November', 'December' <br>\n",
    "day_length = [31, 28, 31, 30, 31, 30, 31, 31, 30, 31, 30, 31]]"
   ]
  },
  {
   "cell_type": "code",
   "execution_count": 17,
   "id": "b792aa65",
   "metadata": {},
   "outputs": [],
   "source": [
    "# python list of month\n",
    "month = ['January', 'February', 'March', 'April', 'May', 'June', 'July', 'August', 'September', 'October', 'November', 'December']\n",
    "day_length = [31, 28, 31, 30, 31, 30, 31, 31, 30, 31, 30, 31]"
   ]
  },
  {
   "cell_type": "code",
   "execution_count": 18,
   "id": "257eb896",
   "metadata": {},
   "outputs": [
    {
     "data": {
      "text/plain": [
       "[31, 28, 31, 30, 31, 30, 31, 31, 30, 31, 30, 31]"
      ]
     },
     "execution_count": 18,
     "metadata": {},
     "output_type": "execute_result"
    }
   ],
   "source": [
    "day_length"
   ]
  },
  {
   "cell_type": "code",
   "execution_count": 19,
   "id": "d2ac9ee4",
   "metadata": {},
   "outputs": [],
   "source": [
    "sMonth = pd.Series(month)\n",
    "sDay = pd.Series(day_length)"
   ]
  },
  {
   "cell_type": "code",
   "execution_count": 21,
   "id": "458a34fb",
   "metadata": {},
   "outputs": [
    {
     "data": {
      "text/plain": [
       "0     31\n",
       "1     28\n",
       "2     31\n",
       "3     30\n",
       "4     31\n",
       "5     30\n",
       "6     31\n",
       "7     31\n",
       "8     30\n",
       "9     31\n",
       "10    30\n",
       "11    31\n",
       "dtype: int64"
      ]
     },
     "execution_count": 21,
     "metadata": {},
     "output_type": "execute_result"
    }
   ],
   "source": [
    "sDay"
   ]
  },
  {
   "cell_type": "code",
   "execution_count": 22,
   "id": "40e420c0",
   "metadata": {},
   "outputs": [
    {
     "data": {
      "text/plain": [
       "(12,)"
      ]
     },
     "execution_count": 22,
     "metadata": {},
     "output_type": "execute_result"
    }
   ],
   "source": [
    "# to get the dimension of a series\n",
    "sMonth.shape"
   ]
  },
  {
   "cell_type": "code",
   "execution_count": 23,
   "id": "677fd1c6",
   "metadata": {},
   "outputs": [
    {
     "data": {
      "text/plain": [
       "RangeIndex(start=0, stop=12, step=1)"
      ]
     },
     "execution_count": 23,
     "metadata": {},
     "output_type": "execute_result"
    }
   ],
   "source": [
    "# display the index info of the series\n",
    "sMonth.index"
   ]
  },
  {
   "cell_type": "code",
   "execution_count": 24,
   "id": "fc2d598f",
   "metadata": {},
   "outputs": [
    {
     "data": {
      "text/plain": [
       "Index(['Name', 'Age', 'City'], dtype='object')"
      ]
     },
     "execution_count": 24,
     "metadata": {},
     "output_type": "execute_result"
    }
   ],
   "source": [
    "pd_dict.index"
   ]
  },
  {
   "cell_type": "code",
   "execution_count": 25,
   "id": "7cbbe797",
   "metadata": {},
   "outputs": [
    {
     "data": {
      "text/plain": [
       "array(['Kwame', 32, 'Tamale'], dtype=object)"
      ]
     },
     "execution_count": 25,
     "metadata": {},
     "output_type": "execute_result"
    }
   ],
   "source": [
    "pd_dict.values"
   ]
  },
  {
   "cell_type": "code",
   "execution_count": 26,
   "id": "1bfbbd25",
   "metadata": {},
   "outputs": [
    {
     "data": {
      "text/plain": [
       "array(['January', 'February', 'March', 'April', 'May', 'June', 'July',\n",
       "       'August', 'September', 'October', 'November', 'December'],\n",
       "      dtype=object)"
      ]
     },
     "execution_count": 26,
     "metadata": {},
     "output_type": "execute_result"
    }
   ],
   "source": [
    "sMonth.values"
   ]
  },
  {
   "cell_type": "code",
   "execution_count": 27,
   "id": "4e6776a0",
   "metadata": {},
   "outputs": [
    {
     "data": {
      "text/plain": [
       "0     January\n",
       "1    February\n",
       "2       March\n",
       "3       April\n",
       "4         May\n",
       "dtype: object"
      ]
     },
     "execution_count": 27,
     "metadata": {},
     "output_type": "execute_result"
    }
   ],
   "source": [
    "# extract the first few information contained in a series\n",
    "sMonth.head()"
   ]
  },
  {
   "cell_type": "code",
   "execution_count": 29,
   "id": "9b30a992",
   "metadata": {},
   "outputs": [
    {
     "data": {
      "text/plain": [
       "0     January\n",
       "1    February\n",
       "2       March\n",
       "3       April\n",
       "4         May\n",
       "5        June\n",
       "6        July\n",
       "dtype: object"
      ]
     },
     "execution_count": 29,
     "metadata": {},
     "output_type": "execute_result"
    }
   ],
   "source": [
    "# extract a specific number of first few info contained in a series\n",
    "sMonth.head(7)"
   ]
  },
  {
   "cell_type": "code",
   "execution_count": 30,
   "id": "2e444b53",
   "metadata": {},
   "outputs": [
    {
     "data": {
      "text/plain": [
       "7        August\n",
       "8     September\n",
       "9       October\n",
       "10     November\n",
       "11     December\n",
       "dtype: object"
      ]
     },
     "execution_count": 30,
     "metadata": {},
     "output_type": "execute_result"
    }
   ],
   "source": [
    "# extract the last few info rows of information contained in a series\n",
    "sMonth.tail()"
   ]
  },
  {
   "cell_type": "markdown",
   "id": "533b4852",
   "metadata": {},
   "source": [
    "## Series methods\n",
    "Methods are enclosed in parenthesis. They perform operations on the Series objects. Methods such as count, min, max, mean, variance, etc exists for series manipulation."
   ]
  },
  {
   "cell_type": "code",
   "execution_count": 31,
   "id": "2190fbb4",
   "metadata": {},
   "outputs": [
    {
     "data": {
      "text/plain": [
       "12"
      ]
     },
     "execution_count": 31,
     "metadata": {},
     "output_type": "execute_result"
    }
   ],
   "source": [
    "# display the number elements (counts) contained in a series\n",
    "sMonth.count()"
   ]
  },
  {
   "cell_type": "code",
   "execution_count": 32,
   "id": "d922e440",
   "metadata": {},
   "outputs": [
    {
     "data": {
      "text/plain": [
       "3"
      ]
     },
     "execution_count": 32,
     "metadata": {},
     "output_type": "execute_result"
    }
   ],
   "source": [
    "pd_dict.count()"
   ]
  },
  {
   "cell_type": "code",
   "execution_count": 33,
   "id": "8104efad",
   "metadata": {},
   "outputs": [
    {
     "data": {
      "text/plain": [
       "28"
      ]
     },
     "execution_count": 33,
     "metadata": {},
     "output_type": "execute_result"
    }
   ],
   "source": [
    "# getting the minimum value in the series\n",
    "sDay.min()"
   ]
  },
  {
   "cell_type": "code",
   "execution_count": 34,
   "id": "9ab17dd6",
   "metadata": {},
   "outputs": [
    {
     "data": {
      "text/plain": [
       "'April'"
      ]
     },
     "execution_count": 34,
     "metadata": {},
     "output_type": "execute_result"
    }
   ],
   "source": [
    "sMonth.min()"
   ]
  },
  {
   "cell_type": "code",
   "execution_count": 35,
   "id": "bd46601e",
   "metadata": {},
   "outputs": [
    {
     "data": {
      "text/plain": [
       "'September'"
      ]
     },
     "execution_count": 35,
     "metadata": {},
     "output_type": "execute_result"
    }
   ],
   "source": [
    "sMonth.max()"
   ]
  },
  {
   "cell_type": "code",
   "execution_count": 37,
   "id": "58bca6ab",
   "metadata": {},
   "outputs": [
    {
     "data": {
      "text/plain": [
       "31"
      ]
     },
     "execution_count": 37,
     "metadata": {},
     "output_type": "execute_result"
    }
   ],
   "source": [
    "# get the maximum value in the series\n",
    "sDay.max()"
   ]
  },
  {
   "cell_type": "code",
   "execution_count": 38,
   "id": "5fb186bb",
   "metadata": {},
   "outputs": [
    {
     "data": {
      "text/plain": [
       "30.416666666666668"
      ]
     },
     "execution_count": 38,
     "metadata": {},
     "output_type": "execute_result"
    }
   ],
   "source": [
    "# get the average value in the series\n",
    "sDay.mean()"
   ]
  },
  {
   "cell_type": "code",
   "execution_count": 40,
   "id": "593e7df0",
   "metadata": {},
   "outputs": [
    {
     "data": {
      "text/plain": [
       "0.9003366373785202"
      ]
     },
     "execution_count": 40,
     "metadata": {},
     "output_type": "execute_result"
    }
   ],
   "source": [
    "# get the dispersion/variance/standard deviation of the series\n",
    "sDay.std()"
   ]
  },
  {
   "cell_type": "code",
   "execution_count": null,
   "id": "a99a4392",
   "metadata": {},
   "outputs": [],
   "source": []
  },
  {
   "cell_type": "code",
   "execution_count": null,
   "id": "6e01683d",
   "metadata": {},
   "outputs": [],
   "source": []
  },
  {
   "cell_type": "markdown",
   "id": "024883a5",
   "metadata": {},
   "source": [
    "## DataFrames\n",
    "DataFrames are the most used and popular objects of pandas. As earlier indicated, series are one-dimensional arrays (list), whiles dataframes are two-dimensional arrays (table). Data is aligned in a tabular structure, more like rows and columns. In general, a dataframe is a structure of series objects. Just like series objects, we can also create a dataframe object using a list, dictionary, list of lists, lists of dictionaries.\n",
    "\n",
    "To create a pandas dataframe, We pass the list (or tuple, dictionary, etc) as a parameter to the pandas dataframe function, which creates a dataframe object."
   ]
  },
  {
   "cell_type": "code",
   "execution_count": 73,
   "id": "bded613f",
   "metadata": {},
   "outputs": [],
   "source": [
    "# set up a pandas dataframe (table of information)\n",
    "monthTable = pd.DataFrame()"
   ]
  },
  {
   "cell_type": "code",
   "execution_count": 44,
   "id": "915a5e77",
   "metadata": {},
   "outputs": [],
   "source": [
    "monthTable['Month'] = sMonth"
   ]
  },
  {
   "cell_type": "code",
   "execution_count": 45,
   "id": "5fffc9c8",
   "metadata": {},
   "outputs": [
    {
     "data": {
      "text/html": [
       "<div>\n",
       "<style scoped>\n",
       "    .dataframe tbody tr th:only-of-type {\n",
       "        vertical-align: middle;\n",
       "    }\n",
       "\n",
       "    .dataframe tbody tr th {\n",
       "        vertical-align: top;\n",
       "    }\n",
       "\n",
       "    .dataframe thead th {\n",
       "        text-align: right;\n",
       "    }\n",
       "</style>\n",
       "<table border=\"1\" class=\"dataframe\">\n",
       "  <thead>\n",
       "    <tr style=\"text-align: right;\">\n",
       "      <th></th>\n",
       "      <th>Month</th>\n",
       "    </tr>\n",
       "  </thead>\n",
       "  <tbody>\n",
       "    <tr>\n",
       "      <th>0</th>\n",
       "      <td>January</td>\n",
       "    </tr>\n",
       "    <tr>\n",
       "      <th>1</th>\n",
       "      <td>February</td>\n",
       "    </tr>\n",
       "    <tr>\n",
       "      <th>2</th>\n",
       "      <td>March</td>\n",
       "    </tr>\n",
       "    <tr>\n",
       "      <th>3</th>\n",
       "      <td>April</td>\n",
       "    </tr>\n",
       "    <tr>\n",
       "      <th>4</th>\n",
       "      <td>May</td>\n",
       "    </tr>\n",
       "    <tr>\n",
       "      <th>5</th>\n",
       "      <td>June</td>\n",
       "    </tr>\n",
       "    <tr>\n",
       "      <th>6</th>\n",
       "      <td>July</td>\n",
       "    </tr>\n",
       "    <tr>\n",
       "      <th>7</th>\n",
       "      <td>August</td>\n",
       "    </tr>\n",
       "    <tr>\n",
       "      <th>8</th>\n",
       "      <td>September</td>\n",
       "    </tr>\n",
       "    <tr>\n",
       "      <th>9</th>\n",
       "      <td>October</td>\n",
       "    </tr>\n",
       "    <tr>\n",
       "      <th>10</th>\n",
       "      <td>November</td>\n",
       "    </tr>\n",
       "    <tr>\n",
       "      <th>11</th>\n",
       "      <td>December</td>\n",
       "    </tr>\n",
       "  </tbody>\n",
       "</table>\n",
       "</div>"
      ],
      "text/plain": [
       "        Month\n",
       "0     January\n",
       "1    February\n",
       "2       March\n",
       "3       April\n",
       "4         May\n",
       "5        June\n",
       "6        July\n",
       "7      August\n",
       "8   September\n",
       "9     October\n",
       "10   November\n",
       "11   December"
      ]
     },
     "execution_count": 45,
     "metadata": {},
     "output_type": "execute_result"
    }
   ],
   "source": [
    "monthTable"
   ]
  },
  {
   "cell_type": "code",
   "execution_count": 46,
   "id": "5e76e239",
   "metadata": {},
   "outputs": [],
   "source": [
    "monthTable['Day length'] = sDay"
   ]
  },
  {
   "cell_type": "code",
   "execution_count": 47,
   "id": "22b95858",
   "metadata": {},
   "outputs": [
    {
     "data": {
      "text/html": [
       "<div>\n",
       "<style scoped>\n",
       "    .dataframe tbody tr th:only-of-type {\n",
       "        vertical-align: middle;\n",
       "    }\n",
       "\n",
       "    .dataframe tbody tr th {\n",
       "        vertical-align: top;\n",
       "    }\n",
       "\n",
       "    .dataframe thead th {\n",
       "        text-align: right;\n",
       "    }\n",
       "</style>\n",
       "<table border=\"1\" class=\"dataframe\">\n",
       "  <thead>\n",
       "    <tr style=\"text-align: right;\">\n",
       "      <th></th>\n",
       "      <th>Month</th>\n",
       "      <th>Day length</th>\n",
       "    </tr>\n",
       "  </thead>\n",
       "  <tbody>\n",
       "    <tr>\n",
       "      <th>0</th>\n",
       "      <td>January</td>\n",
       "      <td>31</td>\n",
       "    </tr>\n",
       "    <tr>\n",
       "      <th>1</th>\n",
       "      <td>February</td>\n",
       "      <td>28</td>\n",
       "    </tr>\n",
       "    <tr>\n",
       "      <th>2</th>\n",
       "      <td>March</td>\n",
       "      <td>31</td>\n",
       "    </tr>\n",
       "    <tr>\n",
       "      <th>3</th>\n",
       "      <td>April</td>\n",
       "      <td>30</td>\n",
       "    </tr>\n",
       "    <tr>\n",
       "      <th>4</th>\n",
       "      <td>May</td>\n",
       "      <td>31</td>\n",
       "    </tr>\n",
       "    <tr>\n",
       "      <th>5</th>\n",
       "      <td>June</td>\n",
       "      <td>30</td>\n",
       "    </tr>\n",
       "    <tr>\n",
       "      <th>6</th>\n",
       "      <td>July</td>\n",
       "      <td>31</td>\n",
       "    </tr>\n",
       "    <tr>\n",
       "      <th>7</th>\n",
       "      <td>August</td>\n",
       "      <td>31</td>\n",
       "    </tr>\n",
       "    <tr>\n",
       "      <th>8</th>\n",
       "      <td>September</td>\n",
       "      <td>30</td>\n",
       "    </tr>\n",
       "    <tr>\n",
       "      <th>9</th>\n",
       "      <td>October</td>\n",
       "      <td>31</td>\n",
       "    </tr>\n",
       "    <tr>\n",
       "      <th>10</th>\n",
       "      <td>November</td>\n",
       "      <td>30</td>\n",
       "    </tr>\n",
       "    <tr>\n",
       "      <th>11</th>\n",
       "      <td>December</td>\n",
       "      <td>31</td>\n",
       "    </tr>\n",
       "  </tbody>\n",
       "</table>\n",
       "</div>"
      ],
      "text/plain": [
       "        Month  Day length\n",
       "0     January          31\n",
       "1    February          28\n",
       "2       March          31\n",
       "3       April          30\n",
       "4         May          31\n",
       "5        June          30\n",
       "6        July          31\n",
       "7      August          31\n",
       "8   September          30\n",
       "9     October          31\n",
       "10   November          30\n",
       "11   December          31"
      ]
     },
     "execution_count": 47,
     "metadata": {},
     "output_type": "execute_result"
    }
   ],
   "source": [
    "monthTable"
   ]
  },
  {
   "cell_type": "code",
   "execution_count": 48,
   "id": "6e3c2476",
   "metadata": {},
   "outputs": [],
   "source": [
    "sRainy = pd.Series(['No', ' No', 'Yes', 'Yes', 'No','Yes','Yes','Yes','No','No','Yes','No'])"
   ]
  },
  {
   "cell_type": "code",
   "execution_count": 49,
   "id": "f3c8e050",
   "metadata": {},
   "outputs": [],
   "source": [
    "monthTable['Rainy?'] = sRainy"
   ]
  },
  {
   "cell_type": "code",
   "execution_count": 50,
   "id": "a9df1216",
   "metadata": {},
   "outputs": [
    {
     "data": {
      "text/html": [
       "<div>\n",
       "<style scoped>\n",
       "    .dataframe tbody tr th:only-of-type {\n",
       "        vertical-align: middle;\n",
       "    }\n",
       "\n",
       "    .dataframe tbody tr th {\n",
       "        vertical-align: top;\n",
       "    }\n",
       "\n",
       "    .dataframe thead th {\n",
       "        text-align: right;\n",
       "    }\n",
       "</style>\n",
       "<table border=\"1\" class=\"dataframe\">\n",
       "  <thead>\n",
       "    <tr style=\"text-align: right;\">\n",
       "      <th></th>\n",
       "      <th>Month</th>\n",
       "      <th>Day length</th>\n",
       "      <th>Rainy?</th>\n",
       "    </tr>\n",
       "  </thead>\n",
       "  <tbody>\n",
       "    <tr>\n",
       "      <th>0</th>\n",
       "      <td>January</td>\n",
       "      <td>31</td>\n",
       "      <td>No</td>\n",
       "    </tr>\n",
       "    <tr>\n",
       "      <th>1</th>\n",
       "      <td>February</td>\n",
       "      <td>28</td>\n",
       "      <td>No</td>\n",
       "    </tr>\n",
       "    <tr>\n",
       "      <th>2</th>\n",
       "      <td>March</td>\n",
       "      <td>31</td>\n",
       "      <td>Yes</td>\n",
       "    </tr>\n",
       "    <tr>\n",
       "      <th>3</th>\n",
       "      <td>April</td>\n",
       "      <td>30</td>\n",
       "      <td>Yes</td>\n",
       "    </tr>\n",
       "    <tr>\n",
       "      <th>4</th>\n",
       "      <td>May</td>\n",
       "      <td>31</td>\n",
       "      <td>No</td>\n",
       "    </tr>\n",
       "    <tr>\n",
       "      <th>5</th>\n",
       "      <td>June</td>\n",
       "      <td>30</td>\n",
       "      <td>Yes</td>\n",
       "    </tr>\n",
       "    <tr>\n",
       "      <th>6</th>\n",
       "      <td>July</td>\n",
       "      <td>31</td>\n",
       "      <td>Yes</td>\n",
       "    </tr>\n",
       "    <tr>\n",
       "      <th>7</th>\n",
       "      <td>August</td>\n",
       "      <td>31</td>\n",
       "      <td>Yes</td>\n",
       "    </tr>\n",
       "    <tr>\n",
       "      <th>8</th>\n",
       "      <td>September</td>\n",
       "      <td>30</td>\n",
       "      <td>No</td>\n",
       "    </tr>\n",
       "    <tr>\n",
       "      <th>9</th>\n",
       "      <td>October</td>\n",
       "      <td>31</td>\n",
       "      <td>No</td>\n",
       "    </tr>\n",
       "    <tr>\n",
       "      <th>10</th>\n",
       "      <td>November</td>\n",
       "      <td>30</td>\n",
       "      <td>Yes</td>\n",
       "    </tr>\n",
       "    <tr>\n",
       "      <th>11</th>\n",
       "      <td>December</td>\n",
       "      <td>31</td>\n",
       "      <td>No</td>\n",
       "    </tr>\n",
       "  </tbody>\n",
       "</table>\n",
       "</div>"
      ],
      "text/plain": [
       "        Month  Day length Rainy?\n",
       "0     January          31     No\n",
       "1    February          28     No\n",
       "2       March          31    Yes\n",
       "3       April          30    Yes\n",
       "4         May          31     No\n",
       "5        June          30    Yes\n",
       "6        July          31    Yes\n",
       "7      August          31    Yes\n",
       "8   September          30     No\n",
       "9     October          31     No\n",
       "10   November          30    Yes\n",
       "11   December          31     No"
      ]
     },
     "execution_count": 50,
     "metadata": {},
     "output_type": "execute_result"
    }
   ],
   "source": [
    "monthTable"
   ]
  },
  {
   "cell_type": "code",
   "execution_count": 51,
   "id": "996c0e55",
   "metadata": {},
   "outputs": [
    {
     "data": {
      "text/plain": [
       "(12, 3)"
      ]
     },
     "execution_count": 51,
     "metadata": {},
     "output_type": "execute_result"
    }
   ],
   "source": [
    "# get the dimension of the dataframe(table) -----> dimension is indicates #rows by #columns (row X column)\n",
    "monthTable.shape"
   ]
  },
  {
   "cell_type": "code",
   "execution_count": 52,
   "id": "4a12b6b6",
   "metadata": {},
   "outputs": [
    {
     "data": {
      "text/html": [
       "<div>\n",
       "<style scoped>\n",
       "    .dataframe tbody tr th:only-of-type {\n",
       "        vertical-align: middle;\n",
       "    }\n",
       "\n",
       "    .dataframe tbody tr th {\n",
       "        vertical-align: top;\n",
       "    }\n",
       "\n",
       "    .dataframe thead th {\n",
       "        text-align: right;\n",
       "    }\n",
       "</style>\n",
       "<table border=\"1\" class=\"dataframe\">\n",
       "  <thead>\n",
       "    <tr style=\"text-align: right;\">\n",
       "      <th></th>\n",
       "      <th>Month</th>\n",
       "      <th>Day length</th>\n",
       "      <th>Rainy?</th>\n",
       "    </tr>\n",
       "  </thead>\n",
       "  <tbody>\n",
       "    <tr>\n",
       "      <th>0</th>\n",
       "      <td>January</td>\n",
       "      <td>31</td>\n",
       "      <td>No</td>\n",
       "    </tr>\n",
       "    <tr>\n",
       "      <th>1</th>\n",
       "      <td>February</td>\n",
       "      <td>28</td>\n",
       "      <td>No</td>\n",
       "    </tr>\n",
       "    <tr>\n",
       "      <th>2</th>\n",
       "      <td>March</td>\n",
       "      <td>31</td>\n",
       "      <td>Yes</td>\n",
       "    </tr>\n",
       "    <tr>\n",
       "      <th>3</th>\n",
       "      <td>April</td>\n",
       "      <td>30</td>\n",
       "      <td>Yes</td>\n",
       "    </tr>\n",
       "    <tr>\n",
       "      <th>4</th>\n",
       "      <td>May</td>\n",
       "      <td>31</td>\n",
       "      <td>No</td>\n",
       "    </tr>\n",
       "  </tbody>\n",
       "</table>\n",
       "</div>"
      ],
      "text/plain": [
       "      Month  Day length Rainy?\n",
       "0   January          31     No\n",
       "1  February          28     No\n",
       "2     March          31    Yes\n",
       "3     April          30    Yes\n",
       "4       May          31     No"
      ]
     },
     "execution_count": 52,
     "metadata": {},
     "output_type": "execute_result"
    }
   ],
   "source": [
    "# getting the first few rows of the dataframe\n",
    "monthTable.head()"
   ]
  },
  {
   "cell_type": "code",
   "execution_count": 53,
   "id": "c7080945",
   "metadata": {},
   "outputs": [
    {
     "data": {
      "text/html": [
       "<div>\n",
       "<style scoped>\n",
       "    .dataframe tbody tr th:only-of-type {\n",
       "        vertical-align: middle;\n",
       "    }\n",
       "\n",
       "    .dataframe tbody tr th {\n",
       "        vertical-align: top;\n",
       "    }\n",
       "\n",
       "    .dataframe thead th {\n",
       "        text-align: right;\n",
       "    }\n",
       "</style>\n",
       "<table border=\"1\" class=\"dataframe\">\n",
       "  <thead>\n",
       "    <tr style=\"text-align: right;\">\n",
       "      <th></th>\n",
       "      <th>Month</th>\n",
       "      <th>Day length</th>\n",
       "      <th>Rainy?</th>\n",
       "    </tr>\n",
       "  </thead>\n",
       "  <tbody>\n",
       "    <tr>\n",
       "      <th>7</th>\n",
       "      <td>August</td>\n",
       "      <td>31</td>\n",
       "      <td>Yes</td>\n",
       "    </tr>\n",
       "    <tr>\n",
       "      <th>8</th>\n",
       "      <td>September</td>\n",
       "      <td>30</td>\n",
       "      <td>No</td>\n",
       "    </tr>\n",
       "    <tr>\n",
       "      <th>9</th>\n",
       "      <td>October</td>\n",
       "      <td>31</td>\n",
       "      <td>No</td>\n",
       "    </tr>\n",
       "    <tr>\n",
       "      <th>10</th>\n",
       "      <td>November</td>\n",
       "      <td>30</td>\n",
       "      <td>Yes</td>\n",
       "    </tr>\n",
       "    <tr>\n",
       "      <th>11</th>\n",
       "      <td>December</td>\n",
       "      <td>31</td>\n",
       "      <td>No</td>\n",
       "    </tr>\n",
       "  </tbody>\n",
       "</table>\n",
       "</div>"
      ],
      "text/plain": [
       "        Month  Day length Rainy?\n",
       "7      August          31    Yes\n",
       "8   September          30     No\n",
       "9     October          31     No\n",
       "10   November          30    Yes\n",
       "11   December          31     No"
      ]
     },
     "execution_count": 53,
     "metadata": {},
     "output_type": "execute_result"
    }
   ],
   "source": [
    "# getting last few rows of the dataframe\n",
    "monthTable.tail()"
   ]
  },
  {
   "cell_type": "code",
   "execution_count": 54,
   "id": "2c306498",
   "metadata": {},
   "outputs": [
    {
     "data": {
      "text/plain": [
       "RangeIndex(start=0, stop=12, step=1)"
      ]
     },
     "execution_count": 54,
     "metadata": {},
     "output_type": "execute_result"
    }
   ],
   "source": [
    "# getting the index of the dataframe\n",
    "monthTable.index"
   ]
  },
  {
   "cell_type": "code",
   "execution_count": 55,
   "id": "5f50ab0b",
   "metadata": {},
   "outputs": [
    {
     "data": {
      "text/plain": [
       "array([['January', 31, 'No'],\n",
       "       ['February', 28, ' No'],\n",
       "       ['March', 31, 'Yes'],\n",
       "       ['April', 30, 'Yes'],\n",
       "       ['May', 31, 'No'],\n",
       "       ['June', 30, 'Yes'],\n",
       "       ['July', 31, 'Yes'],\n",
       "       ['August', 31, 'Yes'],\n",
       "       ['September', 30, 'No'],\n",
       "       ['October', 31, 'No'],\n",
       "       ['November', 30, 'Yes'],\n",
       "       ['December', 31, 'No']], dtype=object)"
      ]
     },
     "execution_count": 55,
     "metadata": {},
     "output_type": "execute_result"
    }
   ],
   "source": [
    "monthTable.values"
   ]
  },
  {
   "cell_type": "code",
   "execution_count": 57,
   "id": "96fe97bd",
   "metadata": {},
   "outputs": [
    {
     "data": {
      "text/plain": [
       "array(['April', 30, 'Yes'], dtype=object)"
      ]
     },
     "execution_count": 57,
     "metadata": {},
     "output_type": "execute_result"
    }
   ],
   "source": [
    "# slicing the 'April' row from the dataframe\n",
    "monthTable.values[3]"
   ]
  },
  {
   "cell_type": "code",
   "execution_count": 60,
   "id": "45375c59",
   "metadata": {},
   "outputs": [
    {
     "data": {
      "text/plain": [
       "array([['April', 30, 'Yes'],\n",
       "       ['May', 31, 'No'],\n",
       "       ['June', 30, 'Yes'],\n",
       "       ['July', 31, 'Yes'],\n",
       "       ['August', 31, 'Yes']], dtype=object)"
      ]
     },
     "execution_count": 60,
     "metadata": {},
     "output_type": "execute_result"
    }
   ],
   "source": [
    "# slicing information about 'April, May, June, July and August'\n",
    "monthTable.values[3:8]"
   ]
  },
  {
   "cell_type": "code",
   "execution_count": 64,
   "id": "148efa3a",
   "metadata": {},
   "outputs": [
    {
     "data": {
      "text/plain": [
       "array([['January', 31, 'No']], dtype=object)"
      ]
     },
     "execution_count": 64,
     "metadata": {},
     "output_type": "execute_result"
    }
   ],
   "source": [
    "# slicing information from the day column\n",
    "monthTable.values[:,1]"
   ]
  },
  {
   "cell_type": "code",
   "execution_count": 66,
   "id": "17ae1369",
   "metadata": {},
   "outputs": [
    {
     "data": {
      "text/plain": [
       "' No'"
      ]
     },
     "execution_count": 66,
     "metadata": {},
     "output_type": "execute_result"
    }
   ],
   "source": [
    "# slicing the day length for February\n",
    "monthTable.values[1][2]"
   ]
  },
  {
   "cell_type": "code",
   "execution_count": 70,
   "id": "baa8ac9d",
   "metadata": {},
   "outputs": [
    {
     "data": {
      "text/plain": [
       "RangeIndex(start=0, stop=0, step=1)"
      ]
     },
     "execution_count": 70,
     "metadata": {},
     "output_type": "execute_result"
    }
   ],
   "source": [
    "# getting the columns in a dataframe\n",
    "monthTable.columns"
   ]
  },
  {
   "cell_type": "code",
   "execution_count": null,
   "id": "d277ac1e",
   "metadata": {},
   "outputs": [],
   "source": []
  },
  {
   "cell_type": "markdown",
   "id": "e08938fc",
   "metadata": {},
   "source": [
    "## Numpy\n",
    "Numpy is a Python package used for scientific and numerical computing. Numpy arrays are similar to list data type in Python but have a different n-dimensional array object. Numpy stores only homogeneous data types, whereas the list can store homogeneous and heterogeneous data type values. Numpy supports multidimensional array objects and provides various functions and attributes to work with them.\n",
    "\n",
    "In the real world, you will deal with large datasets with numerical columns. Many times you will need to tweak this numerical data according to certain requirements, such as performing some mathematical or statistical operations. Performing these operations using Python list is easy, but in the background, these are tedious, time consuming and not advised to do. This is where numpy arrays comes to the rescue. Lists and numpy arrays look alike, but numpy arrays are more powerful. We will explore the difference between lists and numpy arrays, and various numerical and statistical operations, functions, and attributes for working with numpy arrays.\n",
    "\n",
    "## Ndarray\n",
    "Then numpy library has one main core object, ndarray. It is defined using the array function. Just like the python objects, string, integer, float, etc; ndarray is also an object of numpy, which stands for ndimensional array"
   ]
  },
  {
   "cell_type": "code",
   "execution_count": 71,
   "id": "0f2c3ae9",
   "metadata": {},
   "outputs": [],
   "source": [
    "# import numpy library\n",
    "import numpy as np"
   ]
  },
  {
   "cell_type": "code",
   "execution_count": 74,
   "id": "0179e7ef",
   "metadata": {},
   "outputs": [],
   "source": [
    "# creating numpy number array\n",
    "np_number = np.array(day_length)"
   ]
  },
  {
   "cell_type": "code",
   "execution_count": 76,
   "id": "10ab50f2",
   "metadata": {},
   "outputs": [
    {
     "data": {
      "text/plain": [
       "numpy.ndarray"
      ]
     },
     "execution_count": 76,
     "metadata": {},
     "output_type": "execute_result"
    }
   ],
   "source": [
    "type(np_number)"
   ]
  },
  {
   "cell_type": "code",
   "execution_count": 87,
   "id": "9e7d6697",
   "metadata": {},
   "outputs": [],
   "source": [
    "# create numpy number arrays\n",
    "a = np.array([1, 2, 3, 4])\n",
    "b = np.array([5, 6, 20, 8])"
   ]
  },
  {
   "cell_type": "code",
   "execution_count": 88,
   "id": "f2d8d2df",
   "metadata": {},
   "outputs": [
    {
     "data": {
      "text/plain": [
       "array([ 6,  8, 23, 12])"
      ]
     },
     "execution_count": 88,
     "metadata": {},
     "output_type": "execute_result"
    }
   ],
   "source": [
    "# add the arrays (element-wise)\n",
    "a + b"
   ]
  },
  {
   "cell_type": "code",
   "execution_count": 89,
   "id": "7f164659",
   "metadata": {},
   "outputs": [
    {
     "data": {
      "text/plain": [
       "array([ -4,  -4, -17,  -4])"
      ]
     },
     "execution_count": 89,
     "metadata": {},
     "output_type": "execute_result"
    }
   ],
   "source": [
    "# subtract array elements\n",
    "a - b"
   ]
  },
  {
   "cell_type": "code",
   "execution_count": 90,
   "id": "7111bc43",
   "metadata": {},
   "outputs": [
    {
     "data": {
      "text/plain": [
       "array([ 4,  4, 17,  4])"
      ]
     },
     "execution_count": 90,
     "metadata": {},
     "output_type": "execute_result"
    }
   ],
   "source": [
    "b - a"
   ]
  },
  {
   "cell_type": "code",
   "execution_count": 91,
   "id": "161216c6",
   "metadata": {},
   "outputs": [
    {
     "data": {
      "text/plain": [
       "array([ 5, 12, 60, 32])"
      ]
     },
     "execution_count": 91,
     "metadata": {},
     "output_type": "execute_result"
    }
   ],
   "source": [
    "# multiply the array elements\n",
    "a * b"
   ]
  },
  {
   "cell_type": "code",
   "execution_count": 92,
   "id": "7853bdc7",
   "metadata": {},
   "outputs": [
    {
     "data": {
      "text/plain": [
       "array([0.2       , 0.33333333, 0.15      , 0.5       ])"
      ]
     },
     "execution_count": 92,
     "metadata": {},
     "output_type": "execute_result"
    }
   ],
   "source": [
    "# divide the array elements\n",
    "a / b"
   ]
  },
  {
   "cell_type": "code",
   "execution_count": 93,
   "id": "67f9ee94",
   "metadata": {},
   "outputs": [
    {
     "data": {
      "text/plain": [
       "array([5.        , 3.        , 6.66666667, 2.        ])"
      ]
     },
     "execution_count": 93,
     "metadata": {},
     "output_type": "execute_result"
    }
   ],
   "source": [
    "b / a"
   ]
  },
  {
   "cell_type": "code",
   "execution_count": 94,
   "id": "4afc7207",
   "metadata": {},
   "outputs": [
    {
     "data": {
      "text/plain": [
       "array([0, 0, 0, 0])"
      ]
     },
     "execution_count": 94,
     "metadata": {},
     "output_type": "execute_result"
    }
   ],
   "source": [
    "# integer division\n",
    "a // b"
   ]
  },
  {
   "cell_type": "code",
   "execution_count": 95,
   "id": "4a006b68",
   "metadata": {},
   "outputs": [
    {
     "data": {
      "text/plain": [
       "array([5, 3, 6, 2])"
      ]
     },
     "execution_count": 95,
     "metadata": {},
     "output_type": "execute_result"
    }
   ],
   "source": [
    "b // a"
   ]
  },
  {
   "cell_type": "code",
   "execution_count": 97,
   "id": "9b107ce3",
   "metadata": {},
   "outputs": [
    {
     "data": {
      "text/plain": [
       "array([   5,   36, 8000, 4096])"
      ]
     },
     "execution_count": 97,
     "metadata": {},
     "output_type": "execute_result"
    }
   ],
   "source": [
    "# exponent (number raised to a power)\n",
    "b ** a"
   ]
  },
  {
   "cell_type": "code",
   "execution_count": 101,
   "id": "44985ddd",
   "metadata": {},
   "outputs": [],
   "source": [
    "c = np.array([1, 2, 3, 0, 0])\n",
    "d = np.array([5, 6, 20, 8, 4])"
   ]
  },
  {
   "cell_type": "code",
   "execution_count": 102,
   "id": "197345fc",
   "metadata": {},
   "outputs": [
    {
     "data": {
      "text/plain": [
       "array([ 6,  8, 23,  8,  4])"
      ]
     },
     "execution_count": 102,
     "metadata": {},
     "output_type": "execute_result"
    }
   ],
   "source": [
    "c + d"
   ]
  },
  {
   "cell_type": "code",
   "execution_count": null,
   "id": "ba1fc6c8",
   "metadata": {},
   "outputs": [],
   "source": []
  },
  {
   "cell_type": "code",
   "execution_count": null,
   "id": "3b83c7f7",
   "metadata": {},
   "outputs": [],
   "source": []
  },
  {
   "cell_type": "code",
   "execution_count": null,
   "id": "e7afe33c",
   "metadata": {},
   "outputs": [],
   "source": []
  },
  {
   "cell_type": "markdown",
   "id": "21012bc3",
   "metadata": {},
   "source": [
    "Numpy multidimensional homogeneous arrays can be of various sizes, such as (2x2, 3x6, 4x4, etc.). Numpy arrays are fixed in size, meaning once you define their size at the time of creation, it cannot be changed, however, the sizes of python list can grow or shrink in size.\n",
    "\n",
    "## Numpy operations"
   ]
  },
  {
   "cell_type": "code",
   "execution_count": null,
   "id": "1897a998",
   "metadata": {},
   "outputs": [],
   "source": []
  },
  {
   "cell_type": "code",
   "execution_count": null,
   "id": "137c8d5a",
   "metadata": {},
   "outputs": [],
   "source": []
  },
  {
   "cell_type": "code",
   "execution_count": null,
   "id": "adb00e63",
   "metadata": {},
   "outputs": [],
   "source": []
  },
  {
   "cell_type": "code",
   "execution_count": null,
   "id": "c452ddc5",
   "metadata": {},
   "outputs": [],
   "source": []
  },
  {
   "cell_type": "code",
   "execution_count": null,
   "id": "0bd50a0a",
   "metadata": {},
   "outputs": [],
   "source": []
  },
  {
   "cell_type": "markdown",
   "id": "2ac3eabc",
   "metadata": {},
   "source": [
    "## Statistical operations with numpy"
   ]
  },
  {
   "cell_type": "code",
   "execution_count": 103,
   "id": "7989ebc9",
   "metadata": {},
   "outputs": [],
   "source": [
    "# Creating a numpy array\n",
    "npData = np.array([\n",
    "    [31, 28, 31],\n",
    "    [30, 31, 30],\n",
    "    [31, 31, 30],\n",
    "    [31, 30, 31]\n",
    "])"
   ]
  },
  {
   "cell_type": "code",
   "execution_count": 104,
   "id": "b65a8669",
   "metadata": {},
   "outputs": [
    {
     "data": {
      "text/plain": [
       "array([[31, 28, 31],\n",
       "       [30, 31, 30],\n",
       "       [31, 31, 30],\n",
       "       [31, 30, 31]])"
      ]
     },
     "execution_count": 104,
     "metadata": {},
     "output_type": "execute_result"
    }
   ],
   "source": [
    "npData"
   ]
  },
  {
   "cell_type": "code",
   "execution_count": 105,
   "id": "568d6db7",
   "metadata": {},
   "outputs": [
    {
     "data": {
      "text/plain": [
       "(4, 3)"
      ]
     },
     "execution_count": 105,
     "metadata": {},
     "output_type": "execute_result"
    }
   ],
   "source": [
    "# check the dimension of the data\n",
    "npData.shape"
   ]
  },
  {
   "cell_type": "markdown",
   "id": "dedccc2b",
   "metadata": {},
   "source": [
    "## Array-wise manipulation"
   ]
  },
  {
   "cell_type": "code",
   "execution_count": null,
   "id": "6de013b6",
   "metadata": {},
   "outputs": [],
   "source": [
    "# get the average of the numpy array"
   ]
  },
  {
   "cell_type": "code",
   "execution_count": 106,
   "id": "18088756",
   "metadata": {},
   "outputs": [
    {
     "data": {
      "text/plain": [
       "30.416666666666668"
      ]
     },
     "execution_count": 106,
     "metadata": {},
     "output_type": "execute_result"
    }
   ],
   "source": [
    "np.mean(npData)"
   ]
  },
  {
   "cell_type": "code",
   "execution_count": 107,
   "id": "3006ec3b",
   "metadata": {},
   "outputs": [
    {
     "data": {
      "text/plain": [
       "28"
      ]
     },
     "execution_count": 107,
     "metadata": {},
     "output_type": "execute_result"
    }
   ],
   "source": [
    "# get the minimum value\n",
    "np.min(npData)"
   ]
  },
  {
   "cell_type": "code",
   "execution_count": 108,
   "id": "08fd6f99",
   "metadata": {},
   "outputs": [
    {
     "data": {
      "text/plain": [
       "31"
      ]
     },
     "execution_count": 108,
     "metadata": {},
     "output_type": "execute_result"
    }
   ],
   "source": [
    "# get the maximum value\n",
    "np.max(npData)"
   ]
  },
  {
   "cell_type": "code",
   "execution_count": 109,
   "id": "9471d361",
   "metadata": {},
   "outputs": [
    {
     "data": {
      "text/plain": [
       "0.8620067027323834"
      ]
     },
     "execution_count": 109,
     "metadata": {},
     "output_type": "execute_result"
    }
   ],
   "source": [
    "# get the standard deviation of the data\n",
    "np.std(npData)"
   ]
  },
  {
   "cell_type": "code",
   "execution_count": 110,
   "id": "bd153ea2",
   "metadata": {},
   "outputs": [
    {
     "data": {
      "text/plain": [
       "31.0"
      ]
     },
     "execution_count": 110,
     "metadata": {},
     "output_type": "execute_result"
    }
   ],
   "source": [
    "# get the median value of the data\n",
    "np.median(npData)"
   ]
  },
  {
   "cell_type": "code",
   "execution_count": 111,
   "id": "54862bd0",
   "metadata": {},
   "outputs": [
    {
     "data": {
      "text/plain": [
       "array([[31, 28, 31],\n",
       "       [30, 31, 30],\n",
       "       [31, 31, 30],\n",
       "       [31, 30, 31]])"
      ]
     },
     "execution_count": 111,
     "metadata": {},
     "output_type": "execute_result"
    }
   ],
   "source": [
    "npData"
   ]
  },
  {
   "cell_type": "code",
   "execution_count": 112,
   "id": "e481a14f",
   "metadata": {},
   "outputs": [
    {
     "data": {
      "text/plain": [
       "365"
      ]
     },
     "execution_count": 112,
     "metadata": {},
     "output_type": "execute_result"
    }
   ],
   "source": [
    "# get the summation of the data\n",
    "np.sum(npData)"
   ]
  },
  {
   "cell_type": "code",
   "execution_count": 113,
   "id": "28b12fd8",
   "metadata": {},
   "outputs": [
    {
     "data": {
      "text/plain": [
       "-2109573568"
      ]
     },
     "execution_count": 113,
     "metadata": {},
     "output_type": "execute_result"
    }
   ],
   "source": [
    "# get the product of the data\n",
    "np.product(npData)"
   ]
  },
  {
   "cell_type": "markdown",
   "id": "8771dbde",
   "metadata": {},
   "source": [
    "## Row-wise / Column-wise operations\n",
    "In the previous examples, we performed operations on the entire numpy array. How about finding the max, min values for each row, and column. To understand this, we need to know about Shape and Axis. The shape attribute returns the total number of rows and columns of a numpy array, whereas axis defines the row-level or column level control. <b>Axis = 0</b> for column-wise operation, and <b>Axis = 1</b> for row-wise operations."
   ]
  },
  {
   "cell_type": "code",
   "execution_count": 115,
   "id": "30c8befb",
   "metadata": {},
   "outputs": [
    {
     "data": {
      "text/plain": [
       "array([[31, 28, 31],\n",
       "       [30, 31, 30],\n",
       "       [31, 31, 30],\n",
       "       [31, 30, 31]])"
      ]
     },
     "execution_count": 115,
     "metadata": {},
     "output_type": "execute_result"
    }
   ],
   "source": [
    "npData"
   ]
  },
  {
   "cell_type": "code",
   "execution_count": 116,
   "id": "9b662446",
   "metadata": {},
   "outputs": [
    {
     "data": {
      "text/plain": [
       "array([90, 91, 92, 92])"
      ]
     },
     "execution_count": 116,
     "metadata": {},
     "output_type": "execute_result"
    }
   ],
   "source": [
    "# get summation values according row elements (axis=1)\n",
    "np.sum(npData, axis=1)"
   ]
  },
  {
   "cell_type": "code",
   "execution_count": 117,
   "id": "4e8158d2",
   "metadata": {},
   "outputs": [
    {
     "data": {
      "text/plain": [
       "array([123, 120, 122])"
      ]
     },
     "execution_count": 117,
     "metadata": {},
     "output_type": "execute_result"
    }
   ],
   "source": [
    "# get summation values according column elements (axis=0)\n",
    "np.sum(npData, axis=0)"
   ]
  },
  {
   "cell_type": "code",
   "execution_count": 118,
   "id": "aba38582",
   "metadata": {},
   "outputs": [
    {
     "data": {
      "text/plain": [
       "array([0.4330127 , 1.22474487, 0.5       ])"
      ]
     },
     "execution_count": 118,
     "metadata": {},
     "output_type": "execute_result"
    }
   ],
   "source": [
    "# get the standard deviation values for column and row\n",
    "np.std(npData, axis=0)"
   ]
  },
  {
   "cell_type": "code",
   "execution_count": 119,
   "id": "d07959ab",
   "metadata": {},
   "outputs": [
    {
     "data": {
      "text/plain": [
       "array([30.75, 30.  , 30.5 ])"
      ]
     },
     "execution_count": 119,
     "metadata": {},
     "output_type": "execute_result"
    }
   ],
   "source": [
    "# get the mean values for the column\n",
    "np.mean(npData, axis=0)"
   ]
  },
  {
   "cell_type": "code",
   "execution_count": null,
   "id": "0288ae62",
   "metadata": {},
   "outputs": [],
   "source": []
  },
  {
   "cell_type": "markdown",
   "id": "eb759201",
   "metadata": {},
   "source": [
    "## Reshaping\n",
    "Reshaping means changing the shape of numpy array. Numpy uses the reshape method to give a new shape to the array without changing the data."
   ]
  },
  {
   "cell_type": "code",
   "execution_count": 120,
   "id": "813f2be9",
   "metadata": {},
   "outputs": [
    {
     "data": {
      "text/plain": [
       "array([1, 2, 3, 4])"
      ]
     },
     "execution_count": 120,
     "metadata": {},
     "output_type": "execute_result"
    }
   ],
   "source": [
    "a"
   ]
  },
  {
   "cell_type": "code",
   "execution_count": 121,
   "id": "bfab25d9",
   "metadata": {},
   "outputs": [
    {
     "data": {
      "text/plain": [
       "array([ 5,  6, 20,  8])"
      ]
     },
     "execution_count": 121,
     "metadata": {},
     "output_type": "execute_result"
    }
   ],
   "source": [
    "b"
   ]
  },
  {
   "cell_type": "code",
   "execution_count": 124,
   "id": "3496ed5e",
   "metadata": {},
   "outputs": [],
   "source": [
    "x1 = np.array([[1,2,3,4],\n",
    "               [5,6,7,8]])"
   ]
  },
  {
   "cell_type": "code",
   "execution_count": 125,
   "id": "7c758448",
   "metadata": {},
   "outputs": [
    {
     "data": {
      "text/plain": [
       "array([[1, 2, 3, 4],\n",
       "       [5, 6, 7, 8]])"
      ]
     },
     "execution_count": 125,
     "metadata": {},
     "output_type": "execute_result"
    }
   ],
   "source": [
    "x1"
   ]
  },
  {
   "cell_type": "code",
   "execution_count": 126,
   "id": "cbeaf49b",
   "metadata": {},
   "outputs": [
    {
     "data": {
      "text/plain": [
       "(2, 4)"
      ]
     },
     "execution_count": 126,
     "metadata": {},
     "output_type": "execute_result"
    }
   ],
   "source": [
    "x1.shape"
   ]
  },
  {
   "cell_type": "code",
   "execution_count": 148,
   "id": "c0398b20",
   "metadata": {},
   "outputs": [],
   "source": [
    "# reshaping the data to change the dimension\n",
    "x2 = x1.transpose()"
   ]
  },
  {
   "cell_type": "code",
   "execution_count": 149,
   "id": "025431cf",
   "metadata": {},
   "outputs": [
    {
     "data": {
      "text/plain": [
       "array([[1, 5],\n",
       "       [2, 6],\n",
       "       [3, 7],\n",
       "       [4, 8]])"
      ]
     },
     "execution_count": 149,
     "metadata": {},
     "output_type": "execute_result"
    }
   ],
   "source": [
    "x2"
   ]
  },
  {
   "cell_type": "code",
   "execution_count": 130,
   "id": "47c62115",
   "metadata": {},
   "outputs": [],
   "source": [
    "# reshaping the x1 array into a column (or vertical) list\n",
    "x3 = x1.reshape(8,1)"
   ]
  },
  {
   "cell_type": "code",
   "execution_count": 131,
   "id": "54b46c93",
   "metadata": {},
   "outputs": [
    {
     "data": {
      "text/plain": [
       "array([[1],\n",
       "       [2],\n",
       "       [3],\n",
       "       [4],\n",
       "       [5],\n",
       "       [6],\n",
       "       [7],\n",
       "       [8]])"
      ]
     },
     "execution_count": 131,
     "metadata": {},
     "output_type": "execute_result"
    }
   ],
   "source": [
    "x3"
   ]
  },
  {
   "cell_type": "code",
   "execution_count": 132,
   "id": "4f57565f",
   "metadata": {},
   "outputs": [],
   "source": [
    "# reshaping the x1 array into a row (or horizontal) list\n",
    "x4 = x1.reshape(1,8)"
   ]
  },
  {
   "cell_type": "code",
   "execution_count": 133,
   "id": "eca650ac",
   "metadata": {},
   "outputs": [
    {
     "data": {
      "text/plain": [
       "array([[1, 2, 3, 4, 5, 6, 7, 8]])"
      ]
     },
     "execution_count": 133,
     "metadata": {},
     "output_type": "execute_result"
    }
   ],
   "source": [
    "x4"
   ]
  },
  {
   "cell_type": "code",
   "execution_count": null,
   "id": "091a2a07",
   "metadata": {},
   "outputs": [],
   "source": []
  }
 ],
 "metadata": {
  "kernelspec": {
   "display_name": "Python 3 (ipykernel)",
   "language": "python",
   "name": "python3"
  },
  "language_info": {
   "codemirror_mode": {
    "name": "ipython",
    "version": 3
   },
   "file_extension": ".py",
   "mimetype": "text/x-python",
   "name": "python",
   "nbconvert_exporter": "python",
   "pygments_lexer": "ipython3",
   "version": "3.8.17"
  }
 },
 "nbformat": 4,
 "nbformat_minor": 5
}
